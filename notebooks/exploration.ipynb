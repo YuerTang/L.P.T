{
 "cells": [
  {
   "cell_type": "code",
   "execution_count": null,
   "metadata": {},
   "outputs": [],
   "source": [
    "pip install wandb\n",
    "pip install -r requirements.txt\n",
    "\n"
   ]
  },
  {
   "cell_type": "code",
   "execution_count": null,
   "metadata": {},
   "outputs": [],
   "source": [
    "import wandb\n",
    "\n",
    "wandb.init(\n",
    "    project=\"tiny-shakespeare\",  # Change to your project name\n",
    "    config={\n",
    "        \"hidden_size\": args.hidden_size,\n",
    "        \"num_layers\": args.num_layers,\n",
    "        \"learning_rate\": args.lr,\n",
    "        \"epochs\": args.epochs\n",
    "    }\n",
    ")\n",
    "for epoch in range(args.epochs):\n",
    "    loss = train_one_epoch(model, dataset)  # Your training function\n",
    "\n",
    "    wandb.log({\"epoch\": epoch, \"loss\": loss})\n",
    "\n",
    "    print(f\"Epoch {epoch}, Loss: {loss:.4f}\")\n",
    "\n",
    "if epoch % 5 == 0:  # Log every 5 epochs\n",
    "    generated_text = generate_text(model, prompt=\"To be or not to be\")\n",
    "    wandb.log({\"generated_text\": generated_text})\n",
    "\n",
    "wandb.init(\n",
    "    project=\"tiny-shakespeare\",\n",
    "    name=f\"model_h{args.hidden_size}_layers{args.num_layers}\",\n",
    "    config=args.__dict__\n",
    ")\n"
   ]
  },
  {
   "cell_type": "code",
   "execution_count": 4,
   "metadata": {},
   "outputs": [
    {
     "ename": "ModuleNotFoundError",
     "evalue": "No module named 'src'",
     "output_type": "error",
     "traceback": [
      "\u001b[0;31m---------------------------------------------------------------------------\u001b[0m",
      "\u001b[0;31mModuleNotFoundError\u001b[0m                       Traceback (most recent call last)",
      "Cell \u001b[0;32mIn[4], line 2\u001b[0m\n\u001b[1;32m      1\u001b[0m \u001b[38;5;28;01mimport\u001b[39;00m \u001b[38;5;21;01mtorch\u001b[39;00m\n\u001b[0;32m----> 2\u001b[0m \u001b[38;5;28;01mfrom\u001b[39;00m \u001b[38;5;21;01msrc\u001b[39;00m\u001b[38;5;21;01m.\u001b[39;00m\u001b[38;5;21;01mLTM\u001b[39;00m \u001b[38;5;28;01mimport\u001b[39;00m YourModelClass  \u001b[38;5;66;03m# Import your model\u001b[39;00m\n\u001b[1;32m      3\u001b[0m \u001b[38;5;28;01mfrom\u001b[39;00m \u001b[38;5;21;01msrc\u001b[39;00m\u001b[38;5;21;01m.\u001b[39;00m\u001b[38;5;21;01mdataset\u001b[39;00m \u001b[38;5;28;01mimport\u001b[39;00m YourDatasetClass  \u001b[38;5;66;03m# Import your dataset class\u001b[39;00m\n\u001b[1;32m      5\u001b[0m \u001b[38;5;66;03m# Test if GPU is available\u001b[39;00m\n",
      "\u001b[0;31mModuleNotFoundError\u001b[0m: No module named 'src'"
     ]
    }
   ],
   "source": [
    "import torch\n",
    "from src.LTM import YourModelClass  # Import your model\n",
    "from src.dataset import YourDatasetClass  # Import your dataset class\n",
    "\n",
    "# Test if GPU is available\n",
    "device = \"cuda\" if torch.cuda.is_available() else \"cpu\"\n",
    "print(f\"Using device: {device}\")\n",
    "\n",
    "# Load dataset\n",
    "dataset = YourDatasetClass(\"data/input.txt\")\n",
    "print(f\"Loaded dataset with {len(dataset)} samples.\")\n",
    "\n",
    "# Initialize model (Adjust size later)\n",
    "model = YourModelClass(hidden_size=128).to(device)\n",
    "print(model)\n",
    "\n",
    "# Test Forward Pass (dummy input)\n",
    "dummy_input = torch.randint(0, 100, (1, 10)).to(device)  # Adjust shape if needed\n",
    "output = model(dummy_input)\n",
    "print(\"Model output:\", output)\n"
   ]
  }
 ],
 "metadata": {
  "kernelspec": {
   "display_name": "lpt",
   "language": "python",
   "name": "python3"
  },
  "language_info": {
   "codemirror_mode": {
    "name": "ipython",
    "version": 3
   },
   "file_extension": ".py",
   "mimetype": "text/x-python",
   "name": "python",
   "nbconvert_exporter": "python",
   "pygments_lexer": "ipython3",
   "version": "3.8.18"
  }
 },
 "nbformat": 4,
 "nbformat_minor": 2
}
